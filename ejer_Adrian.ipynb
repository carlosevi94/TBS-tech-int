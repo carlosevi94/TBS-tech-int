{
 "cells": [
  {
   "attachments": {},
   "cell_type": "markdown",
   "metadata": {},
   "source": [
    "### Voy a sumar tres columnas del dataset test.csv ('dnce','val' y 'nrgy') para que de como resultado un único numero"
   ]
  },
  {
   "cell_type": "code",
   "execution_count": 1,
   "metadata": {},
   "outputs": [],
   "source": [
    "import pandas as pd"
   ]
  },
  {
   "attachments": {},
   "cell_type": "markdown",
   "metadata": {},
   "source": [
    "### Cargamos el dataset"
   ]
  },
  {
   "cell_type": "code",
   "execution_count": 13,
   "metadata": {},
   "outputs": [
    {
     "data": {
      "text/html": [
       "<div>\n",
       "<style scoped>\n",
       "    .dataframe tbody tr th:only-of-type {\n",
       "        vertical-align: middle;\n",
       "    }\n",
       "\n",
       "    .dataframe tbody tr th {\n",
       "        vertical-align: top;\n",
       "    }\n",
       "\n",
       "    .dataframe thead th {\n",
       "        text-align: right;\n",
       "    }\n",
       "</style>\n",
       "<table border=\"1\" class=\"dataframe\">\n",
       "  <thead>\n",
       "    <tr style=\"text-align: right;\">\n",
       "      <th></th>\n",
       "      <th>Number</th>\n",
       "      <th>title</th>\n",
       "      <th>artist</th>\n",
       "      <th>top genre</th>\n",
       "      <th>year</th>\n",
       "      <th>bpm</th>\n",
       "      <th>nrgy</th>\n",
       "      <th>dnce</th>\n",
       "      <th>dB</th>\n",
       "      <th>live</th>\n",
       "      <th>val</th>\n",
       "      <th>dur</th>\n",
       "      <th>acous</th>\n",
       "      <th>spch</th>\n",
       "    </tr>\n",
       "  </thead>\n",
       "  <tbody>\n",
       "    <tr>\n",
       "      <th>0</th>\n",
       "      <td>396</td>\n",
       "      <td>Call on Me - Radio Mix</td>\n",
       "      <td>Eric Prydz</td>\n",
       "      <td>big room</td>\n",
       "      <td>2004</td>\n",
       "      <td>126</td>\n",
       "      <td>84</td>\n",
       "      <td>60</td>\n",
       "      <td>-7</td>\n",
       "      <td>84</td>\n",
       "      <td>45</td>\n",
       "      <td>171</td>\n",
       "      <td>0</td>\n",
       "      <td>38</td>\n",
       "    </tr>\n",
       "    <tr>\n",
       "      <th>1</th>\n",
       "      <td>160</td>\n",
       "      <td>9 to 5</td>\n",
       "      <td>Dolly Parton</td>\n",
       "      <td>classic country pop</td>\n",
       "      <td>1980</td>\n",
       "      <td>105</td>\n",
       "      <td>78</td>\n",
       "      <td>55</td>\n",
       "      <td>-6</td>\n",
       "      <td>63</td>\n",
       "      <td>81</td>\n",
       "      <td>162</td>\n",
       "      <td>42</td>\n",
       "      <td>5</td>\n",
       "    </tr>\n",
       "  </tbody>\n",
       "</table>\n",
       "</div>"
      ],
      "text/plain": [
       "   Number                   title        artist            top genre  year  \\\n",
       "0     396  Call on Me - Radio Mix    Eric Prydz             big room  2004   \n",
       "1     160                  9 to 5  Dolly Parton  classic country pop  1980   \n",
       "\n",
       "   bpm  nrgy  dnce  dB  live  val  dur  acous  spch  \n",
       "0  126    84    60  -7    84   45  171      0    38  \n",
       "1  105    78    55  -6    63   81  162     42     5  "
      ]
     },
     "execution_count": 13,
     "metadata": {},
     "output_type": "execute_result"
    }
   ],
   "source": [
    "canciones = pd.read_csv(r\"C:\\Users\\adria\\Desktop\\Mi primer proyecto\\Carlos\\TBS-tech-int\\data\\test.csv\")\n",
    "canciones.head(2)"
   ]
  },
  {
   "attachments": {},
   "cell_type": "markdown",
   "metadata": {},
   "source": [
    "### El ejercicio :\"scenario : ‘dnce’ + ‘val’ + ‘energy’\""
   ]
  },
  {
   "attachments": {},
   "cell_type": "markdown",
   "metadata": {},
   "source": [
    "### El codigo en pandas"
   ]
  },
  {
   "cell_type": "code",
   "execution_count": 12,
   "metadata": {},
   "outputs": [
    {
     "data": {
      "text/plain": [
       "38143"
      ]
     },
     "execution_count": 12,
     "metadata": {},
     "output_type": "execute_result"
    }
   ],
   "source": [
    "canciones[['dnce','val','nrgy']].sum().sum()"
   ]
  },
  {
   "attachments": {},
   "cell_type": "markdown",
   "metadata": {},
   "source": [
    "### El codigo en SQL: FROM table1 SELECT SUM (dnce) + SUM (val) + SUM (nrgy) AS TOTAL"
   ]
  }
 ],
 "metadata": {
  "kernelspec": {
   "display_name": "Python 3",
   "language": "python",
   "name": "python3"
  },
  "language_info": {
   "codemirror_mode": {
    "name": "ipython",
    "version": 3
   },
   "file_extension": ".py",
   "mimetype": "text/x-python",
   "name": "python",
   "nbconvert_exporter": "python",
   "pygments_lexer": "ipython3",
   "version": "3.11.1"
  },
  "orig_nbformat": 4,
  "vscode": {
   "interpreter": {
    "hash": "0fa54a4d51c48fb0bf279ca70193b9a82383cafbc792c82808ebdd40d6f8a8a4"
   }
  }
 },
 "nbformat": 4,
 "nbformat_minor": 2
}
